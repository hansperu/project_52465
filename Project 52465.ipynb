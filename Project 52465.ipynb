{
 "cells": [
  {
   "cell_type": "markdown",
   "metadata": {},
   "source": [
    "# Project Programming for Data Analysis\n",
    "\n",
    "## Student: Hans Pérez Rubín de Celis\n",
    "\n",
    "## Student ID number: G00387884"
   ]
  },
  {
   "cell_type": "markdown",
   "metadata": {},
   "source": [
    "For this project you must create a data set by simulating a real-world phenomenon of\n",
    "your choosing. You may pick any phenomenon you wish – you might pick one that is\n",
    "of interest to you in your personal or professional life. Then, rather than collect data\n",
    "related to the phenomenon, you should model and synthesise such data using Python.\n",
    "We suggest you use the numpy.random package for this purpose.\n",
    "\n",
    "Specifically, in this project you should:\n",
    "\n",
    "• Choose a real-world phenomenon that can be measured and for which you could\n",
    "collect at least one-hundred data points across at least four different variables.\n",
    "\n",
    "• Investigate the types of variables involved, their likely distributions, and their\n",
    "relationships with each other.\n",
    "\n",
    "• Synthesise/simulate a data set as closely matching their properties as possible.\n",
    "\n",
    "• Detail your research and implement the simulation in a Jupyter notebook – the\n",
    "data set itself can simply be displayed in an output cell within the notebook.\n",
    "Note that this project is about simulation – you must synthesise a data set. Some\n",
    "students may already have some real-world data sets in their own files. It is okay to\n",
    "base your synthesised data set on these should you wish (please reference it if you do),\n",
    "but the main task in this project is to create a synthesised data set. The next section\n",
    "gives an example project idea."
   ]
  },
  {
   "cell_type": "markdown",
   "metadata": {},
   "source": [
    "## 1.- Project plan.\n",
    "This project refers to a current problem that is to analyze health centers where a series of patients have been admitted as a result of the coronavirus. For this project we will use the Jupyter notebook.\n",
    "## 2.- The problem to solve.\n",
    "First, we will identify a series of variables that we have collected from a health.csv file. Once the variables have been identified, we will start reading the data. For later data preprocessing. As a third step we will develop the modeling. And as a last step the visualization of the results for analysis. As you can see it is hoped to break this project down into several smaller tasks that are easier to solve and connect once they are completed.\n",
    "## 3.- Methodology to follow\n",
    "The methodology for the development of this project is developed in 6 stages that make up a complete data analysis process.\n",
    "a) Identify the problem.\n",
    "b) Data collection.\n",
    "c) The cleaning of the data.\n",
    "d) Exploring the data.\n",
    "e) Data analysis.\n",
    "This project has been developed meeting the following objectives:\n",
    "### 3.1. Research on the use of data to fight the coronavirus.\n",
    "### 3.2. A series of data has been downloaded and our repository added.\n",
    "### 3.3. Work begins on the project through a jupyter notebook:"
   ]
  },
  {
   "cell_type": "markdown",
   "metadata": {},
   "source": [
    "## I. Process for programming for data analysis.\n",
    "\n",
    "### Technology\n",
    "* Anaconda\n",
    "* Python 3.8.2\n",
    "* Visual Studio code: March 2020 (version 1.44)\n",
    "* Git 2.26.1\n",
    "* Gihub\n",
    "* GDB Online is an online compilation and debugging tool for Anaconda, Python, compile, run and debug online from anywhere in the world.\n",
    "* Operating system: Ubuntu 19.10 - Windows 10 Pro - 64 bits\n",
    "\n",
    "### Hardware requirements\n",
    "- Number of cores: 4\n",
    "- Release Date: Intel (R) Core (TM) i7-4790 CPU\n",
    "- RAM 8.00 GB\n",
    "- Clock frequency: 3.6 GHz\n",
    "- CPU benchmark score: 1833\n",
    "\n",
    "### Objective of the project.\n",
    "\n",
    "The main objective of this project is to work with the data set of health centers where data has been taken from possible coronavirus infections, for this we will use a jupyter and Python notebook.\n",
    "\n",
    "We will previously install [Anaconda](https://www.anaconda.com/products/individual) which is the most complete Suite for Data Science with Python."
   ]
  },
  {
   "cell_type": "markdown",
   "metadata": {},
   "source": [
    "## II. Introduction.\n",
    "Currently the pandemic caused by covid 19 (coronavirus) has caused a high risk for all humanity, for this reason it is important to have information stored and prepared to help us fight the pandemic.\n",
    "However, despite the fact that we have information in those developing countries such as South America, they have had to fight not only against the pandemic but also with access to information, access to health, access to better living conditions, to decision making.\n",
    "\n",
    "Corruption in the middle of the pandemic has become more evident as is the case in Peru, Bolivia.\n",
    "The article \"Use data to accelerate your business strategy\", published in Harvard Business Review, states \"The management team of the center understood that a better use of data must become a fundamental health practice\" for all this, governments are giving consider the benefits of having a data-driven decision-making culture such as:\n",
    "\n",
    "#### 1. Identification of needs when implementing hospital facilities and thus contribute to reducing unnecessary expenses at the time of implementation.\n",
    "\n",
    "#### 2. Optimization of processes, which contributes to the reduction of operational costs.\n",
    "\n",
    "#### 3. Proactive monitoring to detect potential “unusual” situations and, in this way, avoid economic losses and identify improvements for the control environment.\n",
    "\n",
    "#### 4. Identification of opportunities for automation, cloud computing, machine learning and predictive analytics that could contribute to the simulation of scenarios to fight the pandemic.\n",
    "\n",
    "National and local governments must make their decisions based on data and with this they have the possibility of constantly identifying coronavirus cases and thus optimizing operations contributing to a better fight against the pandemic.\n",
    "Another important aspect that has increased as a result of the pandemic has been remote work and the slowdown in the economy as a result of the COVID-19 pandemic. All this aspect has meant for the companies the flexibility of their controls, the pressure to optimize operating costs and the prevention of situations that could cause economic losses.\n",
    "For all this, we have seen fit to work with a current problem. We have collected information from 30 health centers in Lima."
   ]
  },
  {
   "cell_type": "markdown",
   "metadata": {},
   "source": [
    "In order to work on a current problem, we have collected information from **30 health centers in Metropolitan Lima** (you can view the data at [this link](https://github.com/javalpe/datasets/blob/master/health.csv)).\n",
    "![imagen](https://s.france24.com/media/display/46e4e94e-9c87-11ea-95ad-005056a964fe/482a8094d241cd30f07562ec0825827ec397dee4.webp)"
   ]
  },
  {
   "cell_type": "markdown",
   "metadata": {},
   "source": [
    "The variables that we have collected, that is, the columns, contained in the link table are described below:"
   ]
  },
  {
   "cell_type": "markdown",
   "metadata": {},
   "source": [
    "**ID:** identifier that distinguishes a health center from the rest\n",
    "\n",
    "**CENTRO_SALUD:** name as the health center in your district is known\n",
    "\n",
    "**PUNTAJE:** average score (1 to 5) as rated by the people who were treated at this health center. Source: Google Maps\n",
    "\n",
    "**INGRESO:** minimum income (S /.) Of the area where the health center is located, according to its socio-economic level. Source: INEI\n",
    "\n",
    "**POBLACION:** number of inhabitants of the area where the health center is located. Source: INEI\n",
    "\n",
    "**HOGARES:** number of dwellings in the area where the health center is located. Source: INEI\n",
    "\n",
    "**CONTAGIADOS_MIL:** number of people who tested positive for COVID (as of August 14, 2020) per thousand inhabitants of the district where the health center is located. Source: Matlab\n",
    "\n",
    "**POSITIVIDAD:** percentage that tested positive for COVID (as of August 14, 2020) of the total population of the district where the health center is located. Source: Matlab\n",
    "\n",
    "**DISTRITO:** district where the health center is located. \n",
    "Source: Matlab\n",
    "\n",
    "Our objective will be to **identify those critical health centers** based on the variables described above. However, due to the diversity of factors such as quality of care, available resources, and demand (population and positivity, for example) we resort to a **clustering algorithm** that allows us to group health centers considering all variables.\n",
    "\n",
    "Once we obtain the groups, we can **extract indicators from each group** that will allow us to identify the group that contains the most critical health centers."
   ]
  },
  {
   "cell_type": "markdown",
   "metadata": {},
   "source": [
    "## III. Data Reading\n",
    "To begin, it is necessary to **transmit all the information** to the model that we are going to build and we must do it in a structured way so that it can be read without errors.\n",
    "![imagen](https://www.analiticaweb.es/wp-content/uploads/2017/06/Social-Map.jpg)"
   ]
  },
  {
   "cell_type": "markdown",
   "metadata": {},
   "source": [
    "[Pandas](https://pandas.pydata.org/) is a Python library that provides extensive means for data analysis. Data scientists often work with data stored in formats such as: .csv, .tsvo, .xlsx.\n",
    "\n",
    "All these formats are easy to process with pandas by getting a **table** (i.e. rows and columns)."
   ]
  },
  {
   "cell_type": "code",
   "execution_count": 4,
   "metadata": {},
   "outputs": [],
   "source": [
    "#Reading data with pandas\n",
    "# Import: It is used to call the pandas library\n",
    "# as: It is used to give a nickname to pandas, in this case the nickname that is assigned is pd\n",
    "# pd.read_csv ('Location of csv file') This function reads the csv file, to\n",
    "# In this case, the file is on the network.\n",
    "import pandas as pd\n",
    "datos = pd.read_csv(\"https://raw.githubusercontent.com/javalpe/datasets/master/salud.csv\")\n",
    "# We assign our dataframe in the data variable"
   ]
  },
  {
   "cell_type": "code",
   "execution_count": 5,
   "metadata": {
    "scrolled": true
   },
   "outputs": [
    {
     "data": {
      "text/html": [
       "<div>\n",
       "<style scoped>\n",
       "    .dataframe tbody tr th:only-of-type {\n",
       "        vertical-align: middle;\n",
       "    }\n",
       "\n",
       "    .dataframe tbody tr th {\n",
       "        vertical-align: top;\n",
       "    }\n",
       "\n",
       "    .dataframe thead th {\n",
       "        text-align: right;\n",
       "    }\n",
       "</style>\n",
       "<table border=\"1\" class=\"dataframe\">\n",
       "  <thead>\n",
       "    <tr style=\"text-align: right;\">\n",
       "      <th></th>\n",
       "      <th>ID</th>\n",
       "      <th>CENTRO_SALUD</th>\n",
       "      <th>PUNTAJE</th>\n",
       "      <th>INGRESO</th>\n",
       "      <th>POBLACION</th>\n",
       "      <th>HOGARES</th>\n",
       "      <th>CONTAGIADOS_MIL</th>\n",
       "      <th>POSITIVIDAD</th>\n",
       "      <th>DISTRITO</th>\n",
       "    </tr>\n",
       "  </thead>\n",
       "  <tbody>\n",
       "    <tr>\n",
       "      <th>0</th>\n",
       "      <td>1</td>\n",
       "      <td>Clinica Maria del Socorro</td>\n",
       "      <td>3.6</td>\n",
       "      <td>1073.01</td>\n",
       "      <td>152787</td>\n",
       "      <td>44523</td>\n",
       "      <td>19</td>\n",
       "      <td>25</td>\n",
       "      <td>ATE</td>\n",
       "    </tr>\n",
       "    <tr>\n",
       "      <th>1</th>\n",
       "      <td>2</td>\n",
       "      <td>Centro de Salud Chacra Colorada</td>\n",
       "      <td>4.3</td>\n",
       "      <td>1449.72</td>\n",
       "      <td>81112</td>\n",
       "      <td>24982</td>\n",
       "      <td>34</td>\n",
       "      <td>14</td>\n",
       "      <td>LINCE</td>\n",
       "    </tr>\n",
       "    <tr>\n",
       "      <th>2</th>\n",
       "      <td>3</td>\n",
       "      <td>Clinica Bellavista</td>\n",
       "      <td>3.0</td>\n",
       "      <td>2412.45</td>\n",
       "      <td>29184</td>\n",
       "      <td>8356</td>\n",
       "      <td>55</td>\n",
       "      <td>14</td>\n",
       "      <td>BELLAVISTA</td>\n",
       "    </tr>\n",
       "    <tr>\n",
       "      <th>3</th>\n",
       "      <td>4</td>\n",
       "      <td>Clinica Limatambo Minka</td>\n",
       "      <td>2.5</td>\n",
       "      <td>1073.01</td>\n",
       "      <td>190676</td>\n",
       "      <td>50748</td>\n",
       "      <td>24</td>\n",
       "      <td>13</td>\n",
       "      <td>CALLAO</td>\n",
       "    </tr>\n",
       "    <tr>\n",
       "      <th>4</th>\n",
       "      <td>5</td>\n",
       "      <td>Clinica Internacional Lima</td>\n",
       "      <td>3.2</td>\n",
       "      <td>1073.01</td>\n",
       "      <td>125094</td>\n",
       "      <td>38842</td>\n",
       "      <td>70</td>\n",
       "      <td>20</td>\n",
       "      <td>CERCADO</td>\n",
       "    </tr>\n",
       "  </tbody>\n",
       "</table>\n",
       "</div>"
      ],
      "text/plain": [
       "   ID                     CENTRO_SALUD  PUNTAJE  INGRESO  POBLACION  HOGARES  \\\n",
       "0   1        Clinica Maria del Socorro      3.6  1073.01     152787    44523   \n",
       "1   2  Centro de Salud Chacra Colorada      4.3  1449.72      81112    24982   \n",
       "2   3               Clinica Bellavista      3.0  2412.45      29184     8356   \n",
       "3   4          Clinica Limatambo Minka      2.5  1073.01     190676    50748   \n",
       "4   5       Clinica Internacional Lima      3.2  1073.01     125094    38842   \n",
       "\n",
       "   CONTAGIADOS_MIL  POSITIVIDAD    DISTRITO  \n",
       "0               19           25         ATE  \n",
       "1               34           14       LINCE  \n",
       "2               55           14  BELLAVISTA  \n",
       "3               24           13      CALLAO  \n",
       "4               70           20     CERCADO  "
      ]
     },
     "execution_count": 5,
     "metadata": {},
     "output_type": "execute_result"
    }
   ],
   "source": [
    "#Verify the first records in data\n",
    "# data = It is the name that we assigned to our imported dataframe a moment ago\n",
    "# head () = It is what allows us to visualize, we can place any number\n",
    "# within the relationship that will be the number of rows that will show us\n",
    "# By default head () shows 5 rows\n",
    "datos.head()"
   ]
  },
  {
   "cell_type": "code",
   "execution_count": 6,
   "metadata": {},
   "outputs": [
    {
     "data": {
      "text/plain": [
       "(30, 9)"
      ]
     },
     "execution_count": 6,
     "metadata": {},
     "output_type": "execute_result"
    }
   ],
   "source": [
    "#shape is a python property that shows us the size, in this case of\n",
    "#our dataframe, the result is (rows, columns)\n",
    "datos.shape"
   ]
  },
  {
   "cell_type": "code",
   "execution_count": 7,
   "metadata": {},
   "outputs": [
    {
     "name": "stdout",
     "output_type": "stream",
     "text": [
      "<class 'pandas.core.frame.DataFrame'>\n",
      "RangeIndex: 30 entries, 0 to 29\n",
      "Data columns (total 9 columns):\n",
      " #   Column           Non-Null Count  Dtype  \n",
      "---  ------           --------------  -----  \n",
      " 0   ID               30 non-null     int64  \n",
      " 1   CENTRO_SALUD     30 non-null     object \n",
      " 2   PUNTAJE          30 non-null     float64\n",
      " 3   INGRESO          30 non-null     float64\n",
      " 4   POBLACION        30 non-null     int64  \n",
      " 5   HOGARES          30 non-null     int64  \n",
      " 6   CONTAGIADOS_MIL  30 non-null     int64  \n",
      " 7   POSITIVIDAD      30 non-null     int64  \n",
      " 8   DISTRITO         30 non-null     object \n",
      "dtypes: float64(2), int64(5), object(2)\n",
      "memory usage: 2.2+ KB\n"
     ]
    }
   ],
   "source": [
    "#Verify data content\n",
    "#With info we can see the type of variables.\n",
    "#The type of variables that exist in python we defined previously\n",
    "datos.info()"
   ]
  },
  {
   "cell_type": "code",
   "execution_count": 8,
   "metadata": {},
   "outputs": [
    {
     "data": {
      "text/html": [
       "<div>\n",
       "<style scoped>\n",
       "    .dataframe tbody tr th:only-of-type {\n",
       "        vertical-align: middle;\n",
       "    }\n",
       "\n",
       "    .dataframe tbody tr th {\n",
       "        vertical-align: top;\n",
       "    }\n",
       "\n",
       "    .dataframe thead th {\n",
       "        text-align: right;\n",
       "    }\n",
       "</style>\n",
       "<table border=\"1\" class=\"dataframe\">\n",
       "  <thead>\n",
       "    <tr style=\"text-align: right;\">\n",
       "      <th></th>\n",
       "      <th>ID</th>\n",
       "      <th>PUNTAJE</th>\n",
       "      <th>INGRESO</th>\n",
       "      <th>POBLACION</th>\n",
       "      <th>HOGARES</th>\n",
       "      <th>CONTAGIADOS_MIL</th>\n",
       "      <th>POSITIVIDAD</th>\n",
       "    </tr>\n",
       "  </thead>\n",
       "  <tbody>\n",
       "    <tr>\n",
       "      <th>count</th>\n",
       "      <td>30.000000</td>\n",
       "      <td>30.000000</td>\n",
       "      <td>30.000000</td>\n",
       "      <td>30.000000</td>\n",
       "      <td>30.000000</td>\n",
       "      <td>30.000000</td>\n",
       "      <td>30.000000</td>\n",
       "    </tr>\n",
       "    <tr>\n",
       "      <th>mean</th>\n",
       "      <td>15.500000</td>\n",
       "      <td>3.383333</td>\n",
       "      <td>1741.333000</td>\n",
       "      <td>112676.066667</td>\n",
       "      <td>33832.066667</td>\n",
       "      <td>29.566667</td>\n",
       "      <td>22.333333</td>\n",
       "    </tr>\n",
       "    <tr>\n",
       "      <th>std</th>\n",
       "      <td>8.803408</td>\n",
       "      <td>0.492764</td>\n",
       "      <td>613.553743</td>\n",
       "      <td>66321.502180</td>\n",
       "      <td>18342.662712</td>\n",
       "      <td>15.644065</td>\n",
       "      <td>5.134960</td>\n",
       "    </tr>\n",
       "    <tr>\n",
       "      <th>min</th>\n",
       "      <td>1.000000</td>\n",
       "      <td>2.500000</td>\n",
       "      <td>1073.010000</td>\n",
       "      <td>29184.000000</td>\n",
       "      <td>8356.000000</td>\n",
       "      <td>18.000000</td>\n",
       "      <td>13.000000</td>\n",
       "    </tr>\n",
       "    <tr>\n",
       "      <th>25%</th>\n",
       "      <td>8.250000</td>\n",
       "      <td>3.000000</td>\n",
       "      <td>1073.010000</td>\n",
       "      <td>71471.750000</td>\n",
       "      <td>21395.750000</td>\n",
       "      <td>21.250000</td>\n",
       "      <td>20.250000</td>\n",
       "    </tr>\n",
       "    <tr>\n",
       "      <th>50%</th>\n",
       "      <td>15.500000</td>\n",
       "      <td>3.500000</td>\n",
       "      <td>1449.720000</td>\n",
       "      <td>96515.500000</td>\n",
       "      <td>29799.000000</td>\n",
       "      <td>24.000000</td>\n",
       "      <td>21.000000</td>\n",
       "    </tr>\n",
       "    <tr>\n",
       "      <th>75%</th>\n",
       "      <td>22.750000</td>\n",
       "      <td>3.700000</td>\n",
       "      <td>2412.450000</td>\n",
       "      <td>127040.250000</td>\n",
       "      <td>38804.250000</td>\n",
       "      <td>28.000000</td>\n",
       "      <td>24.750000</td>\n",
       "    </tr>\n",
       "    <tr>\n",
       "      <th>max</th>\n",
       "      <td>30.000000</td>\n",
       "      <td>4.300000</td>\n",
       "      <td>2412.450000</td>\n",
       "      <td>308614.000000</td>\n",
       "      <td>84599.000000</td>\n",
       "      <td>87.000000</td>\n",
       "      <td>35.000000</td>\n",
       "    </tr>\n",
       "  </tbody>\n",
       "</table>\n",
       "</div>"
      ],
      "text/plain": [
       "              ID    PUNTAJE      INGRESO      POBLACION       HOGARES  \\\n",
       "count  30.000000  30.000000    30.000000      30.000000     30.000000   \n",
       "mean   15.500000   3.383333  1741.333000  112676.066667  33832.066667   \n",
       "std     8.803408   0.492764   613.553743   66321.502180  18342.662712   \n",
       "min     1.000000   2.500000  1073.010000   29184.000000   8356.000000   \n",
       "25%     8.250000   3.000000  1073.010000   71471.750000  21395.750000   \n",
       "50%    15.500000   3.500000  1449.720000   96515.500000  29799.000000   \n",
       "75%    22.750000   3.700000  2412.450000  127040.250000  38804.250000   \n",
       "max    30.000000   4.300000  2412.450000  308614.000000  84599.000000   \n",
       "\n",
       "       CONTAGIADOS_MIL  POSITIVIDAD  \n",
       "count        30.000000    30.000000  \n",
       "mean         29.566667    22.333333  \n",
       "std          15.644065     5.134960  \n",
       "min          18.000000    13.000000  \n",
       "25%          21.250000    20.250000  \n",
       "50%          24.000000    21.000000  \n",
       "75%          28.000000    24.750000  \n",
       "max          87.000000    35.000000  "
      ]
     },
     "execution_count": 8,
     "metadata": {},
     "output_type": "execute_result"
    }
   ],
   "source": [
    "# describe (): It gives us a descriptive statistics report:\n",
    "# count = number of records filled\n",
    "# mean = average\n",
    "# std = standard deviation\n",
    "# min = minimum value\n",
    "# max = maximum value\n",
    "# x% = percentiles \n",
    "datos.describe()"
   ]
  },
  {
   "cell_type": "markdown",
   "metadata": {},
   "source": [
    "## IV. Data preprocessing\n",
    "For our model to work optimally it will be necessary to make some changes to the data that we have already read. At this stage we make modifications that allow us to evaluate the data in the best way."
   ]
  },
  {
   "cell_type": "markdown",
   "metadata": {},
   "source": [
    "**Data scaling:** The goal of scaling is to change the values of the numeric columns of the data set to use a common scale, without distorting the differences in the value ranges, or losing information.\n",
    "\n",
    "For example, suppose that the input data set contains a column with values between 0 and 1, and another column with values between 10,000 and 100,000. Scaling avoids these problems by creating new values that maintain the distribution general within a scale that gives the same weight to all numeric columns used in the model."
   ]
  },
  {
   "cell_type": "code",
   "execution_count": 9,
   "metadata": {},
   "outputs": [
    {
     "data": {
      "text/html": [
       "<div>\n",
       "<style scoped>\n",
       "    .dataframe tbody tr th:only-of-type {\n",
       "        vertical-align: middle;\n",
       "    }\n",
       "\n",
       "    .dataframe tbody tr th {\n",
       "        vertical-align: top;\n",
       "    }\n",
       "\n",
       "    .dataframe thead th {\n",
       "        text-align: right;\n",
       "    }\n",
       "</style>\n",
       "<table border=\"1\" class=\"dataframe\">\n",
       "  <thead>\n",
       "    <tr style=\"text-align: right;\">\n",
       "      <th></th>\n",
       "      <th>PUNTAJE</th>\n",
       "      <th>INGRESO</th>\n",
       "      <th>POBLACION</th>\n",
       "      <th>HOGARES</th>\n",
       "      <th>CONTAGIADOS_MIL</th>\n",
       "      <th>POSITIVIDAD</th>\n",
       "    </tr>\n",
       "  </thead>\n",
       "  <tbody>\n",
       "    <tr>\n",
       "      <th>0</th>\n",
       "      <td>3.6</td>\n",
       "      <td>1073.01</td>\n",
       "      <td>152787</td>\n",
       "      <td>44523</td>\n",
       "      <td>19</td>\n",
       "      <td>25</td>\n",
       "    </tr>\n",
       "    <tr>\n",
       "      <th>1</th>\n",
       "      <td>4.3</td>\n",
       "      <td>1449.72</td>\n",
       "      <td>81112</td>\n",
       "      <td>24982</td>\n",
       "      <td>34</td>\n",
       "      <td>14</td>\n",
       "    </tr>\n",
       "    <tr>\n",
       "      <th>2</th>\n",
       "      <td>3.0</td>\n",
       "      <td>2412.45</td>\n",
       "      <td>29184</td>\n",
       "      <td>8356</td>\n",
       "      <td>55</td>\n",
       "      <td>14</td>\n",
       "    </tr>\n",
       "    <tr>\n",
       "      <th>3</th>\n",
       "      <td>2.5</td>\n",
       "      <td>1073.01</td>\n",
       "      <td>190676</td>\n",
       "      <td>50748</td>\n",
       "      <td>24</td>\n",
       "      <td>13</td>\n",
       "    </tr>\n",
       "    <tr>\n",
       "      <th>4</th>\n",
       "      <td>3.2</td>\n",
       "      <td>1073.01</td>\n",
       "      <td>125094</td>\n",
       "      <td>38842</td>\n",
       "      <td>70</td>\n",
       "      <td>20</td>\n",
       "    </tr>\n",
       "  </tbody>\n",
       "</table>\n",
       "</div>"
      ],
      "text/plain": [
       "   PUNTAJE  INGRESO  POBLACION  HOGARES  CONTAGIADOS_MIL  POSITIVIDAD\n",
       "0      3.6  1073.01     152787    44523               19           25\n",
       "1      4.3  1449.72      81112    24982               34           14\n",
       "2      3.0  2412.45      29184     8356               55           14\n",
       "3      2.5  1073.01     190676    50748               24           13\n",
       "4      3.2  1073.01     125094    38842               70           20"
      ]
     },
     "execution_count": 9,
     "metadata": {},
     "output_type": "execute_result"
    }
   ],
   "source": [
    "#From my dataframe data that I loaded previously I will take only the columns\n",
    "#which I think are relevant to the analysis and I assign it in data_2\n",
    "datos_2 = datos.loc[:, ['PUNTAJE', 'INGRESO', 'POBLACION', 'HOGARES','CONTAGIADOS_MIL', 'POSITIVIDAD']]\n",
    "datos_2.head()"
   ]
  },
  {
   "cell_type": "code",
   "execution_count": 11,
   "metadata": {},
   "outputs": [],
   "source": [
    "#Import from the sklearn library to MaxAbsScaler\n",
    "#MaxAbsScaler: Scale each characteristic by its maximum absolute value.\n",
    "# This estimator scales and translates each characteristic individually\n",
    "# so that the maximum absolute value of each characteristic in the\n",
    "# training set is 1.0. Does not shift / center data\n",
    "# and therefore does not destroy any shortages.\n",
    "from sklearn.preprocessing import MaxAbsScaler\n",
    "abs_scaler = MaxAbsScaler() #Create the abs_scaler variables "
   ]
  },
  {
   "cell_type": "code",
   "execution_count": 12,
   "metadata": {},
   "outputs": [],
   "source": [
    "#abs_scaler = It is the variables that we created a moment ago, this variable contains\n",
    "# the MaxAbsScaler () function, which will allow us to scale our data\n",
    "# .fit () = Calculate the maximum absolute value to be used for subsequent scaling.\n",
    "# .transform () = Fit to data, then transform.\n",
    "abs_scaler.fit(datos_2)\n",
    "scaled_data = abs_scaler.transform(datos_2) #The transformed (scaled) data is saved in scaled_data"
   ]
  },
  {
   "cell_type": "code",
   "execution_count": 13,
   "metadata": {},
   "outputs": [],
   "source": [
    "#Create a new dataframe with the same name data_2, using the transformed data\n",
    "#and the columns of the old dataframe which is also called data_2\n",
    "datos_2 = pd.DataFrame(scaled_data, columns=datos_2.columns)"
   ]
  },
  {
   "cell_type": "code",
   "execution_count": 14,
   "metadata": {},
   "outputs": [
    {
     "data": {
      "text/html": [
       "<div>\n",
       "<style scoped>\n",
       "    .dataframe tbody tr th:only-of-type {\n",
       "        vertical-align: middle;\n",
       "    }\n",
       "\n",
       "    .dataframe tbody tr th {\n",
       "        vertical-align: top;\n",
       "    }\n",
       "\n",
       "    .dataframe thead th {\n",
       "        text-align: right;\n",
       "    }\n",
       "</style>\n",
       "<table border=\"1\" class=\"dataframe\">\n",
       "  <thead>\n",
       "    <tr style=\"text-align: right;\">\n",
       "      <th></th>\n",
       "      <th>PUNTAJE</th>\n",
       "      <th>INGRESO</th>\n",
       "      <th>POBLACION</th>\n",
       "      <th>HOGARES</th>\n",
       "      <th>CONTAGIADOS_MIL</th>\n",
       "      <th>POSITIVIDAD</th>\n",
       "    </tr>\n",
       "  </thead>\n",
       "  <tbody>\n",
       "    <tr>\n",
       "      <th>0</th>\n",
       "      <td>0.837209</td>\n",
       "      <td>0.444780</td>\n",
       "      <td>0.495075</td>\n",
       "      <td>0.526283</td>\n",
       "      <td>0.218391</td>\n",
       "      <td>0.714286</td>\n",
       "    </tr>\n",
       "    <tr>\n",
       "      <th>1</th>\n",
       "      <td>1.000000</td>\n",
       "      <td>0.600933</td>\n",
       "      <td>0.262827</td>\n",
       "      <td>0.295299</td>\n",
       "      <td>0.390805</td>\n",
       "      <td>0.400000</td>\n",
       "    </tr>\n",
       "    <tr>\n",
       "      <th>2</th>\n",
       "      <td>0.697674</td>\n",
       "      <td>1.000000</td>\n",
       "      <td>0.094565</td>\n",
       "      <td>0.098772</td>\n",
       "      <td>0.632184</td>\n",
       "      <td>0.400000</td>\n",
       "    </tr>\n",
       "    <tr>\n",
       "      <th>3</th>\n",
       "      <td>0.581395</td>\n",
       "      <td>0.444780</td>\n",
       "      <td>0.617846</td>\n",
       "      <td>0.599865</td>\n",
       "      <td>0.275862</td>\n",
       "      <td>0.371429</td>\n",
       "    </tr>\n",
       "    <tr>\n",
       "      <th>4</th>\n",
       "      <td>0.744186</td>\n",
       "      <td>0.444780</td>\n",
       "      <td>0.405341</td>\n",
       "      <td>0.459131</td>\n",
       "      <td>0.804598</td>\n",
       "      <td>0.571429</td>\n",
       "    </tr>\n",
       "  </tbody>\n",
       "</table>\n",
       "</div>"
      ],
      "text/plain": [
       "    PUNTAJE   INGRESO  POBLACION   HOGARES  CONTAGIADOS_MIL  POSITIVIDAD\n",
       "0  0.837209  0.444780   0.495075  0.526283         0.218391     0.714286\n",
       "1  1.000000  0.600933   0.262827  0.295299         0.390805     0.400000\n",
       "2  0.697674  1.000000   0.094565  0.098772         0.632184     0.400000\n",
       "3  0.581395  0.444780   0.617846  0.599865         0.275862     0.371429\n",
       "4  0.744186  0.444780   0.405341  0.459131         0.804598     0.571429"
      ]
     },
     "execution_count": 14,
     "metadata": {},
     "output_type": "execute_result"
    }
   ],
   "source": [
    "datos_2.head() #Finally we have our dataframe ready to process it in the algorithm."
   ]
  },
  {
   "cell_type": "markdown",
   "metadata": {},
   "source": [
    "## V. Modeling\n",
    "\n",
    "### a) Reduction of dimensions: PCA\n",
    "\n",
    "PCA is a technique used to reduce the number of columns or predictor variables. For this example we are going to draw in a plane with two axes (X-Y) so we are going to reduce all the columns to only two.\n",
    "\n",
    "![imagen](https://i.imgur.com/R6qLbRS.png)"
   ]
  },
  {
   "cell_type": "code",
   "execution_count": 15,
   "metadata": {},
   "outputs": [],
   "source": [
    "#Import the PCA library from sklearn\n",
    "from sklearn.decomposition import PCA"
   ]
  },
  {
   "cell_type": "code",
   "execution_count": 16,
   "metadata": {},
   "outputs": [],
   "source": [
    "#Create the component variable to save the PCA there\n",
    "componentes = PCA(n_components=2) # We specify within the PCA that we are going to reduce it to 2"
   ]
  },
  {
   "cell_type": "code",
   "execution_count": 18,
   "metadata": {},
   "outputs": [],
   "source": [
    "# We train the PCA with the data stored in data_2 and reduce data_2 to 2 columns.\n",
    "# We save the result in data_en_2D\n",
    "datos_en_2D = componentes.fit_transform(datos_2)"
   ]
  },
  {
   "cell_type": "code",
   "execution_count": 19,
   "metadata": {},
   "outputs": [],
   "source": [
    "#Import the seaborn library and rename it as sns so as not to write the word\n",
    "#complete every time we use it\n",
    "import seaborn as sns"
   ]
  },
  {
   "cell_type": "code",
   "execution_count": 20,
   "metadata": {},
   "outputs": [],
   "source": [
    "#We are going to create two new columns PCA1 and PCA2 in data and store the values there\n",
    "# of columns 0 and 1\n",
    "datos['PCA1'] = datos_en_2D[:, 0]\n",
    "datos['PCA2'] = datos_en_2D[:, 1]"
   ]
  },
  {
   "cell_type": "code",
   "execution_count": 21,
   "metadata": {},
   "outputs": [
    {
     "data": {
      "text/plain": [
       "<AxesSubplot:xlabel='PCA1', ylabel='PCA2'>"
      ]
     },
     "execution_count": 21,
     "metadata": {},
     "output_type": "execute_result"
    },
    {
     "data": {
      "image/png": "[encoded data removed]",
      "text/plain": [
       "<Figure size 432x288 with 1 Axes>"
      ]
     },
     "metadata": {
      "needs_background": "light"
     },
     "output_type": "display_data"
    }
   ],
   "source": [
    "# We are going to use the dot plot (scatterplot) from the seaborn library\n",
    "sns.scatterplot(x='PCA1', y='PCA2',data=datos)\n",
    "# We specify that the data is found in data that now already has the columns PCA1 and PCA2"
   ]
  },
  {
   "cell_type": "markdown",
   "metadata": {},
   "source": [
    "Thanks to the graph obtained with the two columns of the PCA, it is possible to visualize up to three **different areas** where all the data is concentrated. To check this we are going to use a clustering model(grouping) called **KMeans**.\n",
    "![imagen](https://i.imgur.com/Zkyeu70.png)"
   ]
  },
  {
   "cell_type": "markdown",
   "metadata": {},
   "source": [
    "### b) Grouping: KMEANS\n",
    "KMEANS is a grouping technique based on different observations recorded during a period of time, since the cluster analysis -or also called clustering- is carried out after taking a \"photo\" at a previously determined moment.\n",
    "\n",
    "We can visualize the grouping based on, for example, two variables as shown in the following image:\n",
    "\n",
    "![imagen](https://i.imgur.com/xRlapgn.jpg)"
   ]
  },
  {
   "cell_type": "code",
   "execution_count": 25,
   "metadata": {},
   "outputs": [],
   "source": [
    "#We import the KMeans library from sklearn\n",
    "from sklearn.cluster import KMeans"
   ]
  },
  {
   "cell_type": "code",
   "execution_count": 26,
   "metadata": {},
   "outputs": [],
   "source": [
    "#Create the grouping variable to store the KMeans there\n",
    "agrupamiento = KMeans(n_clusters=3) # we specify within KMeans that we want to obtain three groups"
   ]
  },
  {
   "cell_type": "code",
   "execution_count": 27,
   "metadata": {},
   "outputs": [],
   "source": [
    "#We train with the data stored in data_2 and we obtain the predictions of the groups.\n",
    "grupos = agrupamiento.fit_predict(datos_2)"
   ]
  },
  {
   "cell_type": "markdown",
   "metadata": {},
   "source": [
    "Now we have obtained three groups, but remember that in Python you start counting from zero. Therefore, the first group is called 0 (zero), the second group is called 1 (one), and the third group is called 2 (two)."
   ]
  },
  {
   "cell_type": "code",
   "execution_count": 28,
   "metadata": {},
   "outputs": [],
   "source": [
    "#We are going to create a GROUPS column to store the groups generated by KMeans\n",
    "datos['GRUPOS'] = grupos"
   ]
  },
  {
   "cell_type": "code",
   "execution_count": 29,
   "metadata": {},
   "outputs": [
    {
     "data": {
      "text/plain": [
       "<AxesSubplot:xlabel='PCA1', ylabel='PCA2'>"
      ]
     },
     "execution_count": 29,
     "metadata": {},
     "output_type": "execute_result"
    },
    {
     "data": {
      "image/png": "[encoded data removed]",
      "text/plain": [
       "<Figure size 432x288 with 1 Axes>"
      ]
     },
     "metadata": {
      "needs_background": "light"
     },
     "output_type": "display_data"
    }
   ],
   "source": [
    "#We are going to use the point plot (scatterplot) from the seaborn library\n",
    "sns.scatterplot(x='PCA1', y='PCA2',data=datos, hue='GRUPOS')\n",
    "# We specify in hue a filter or legend using the groups"
   ]
  },
  {
   "cell_type": "markdown",
   "metadata": {},
   "source": [
    "To better visualize the graph we are going to specify the colors assigned to each group, so we use an object called dictionary. In Python a **dictionary** is called through the variable **dict**"
   ]
  },
  {
   "cell_type": "code",
   "execution_count": 30,
   "metadata": {},
   "outputs": [],
   "source": [
    "#Create a dictionary called colors and specify a color for each group created: 0, 1 and 2\n",
    "colores = dict({0:'red', 1:'blue', 2:'green'})"
   ]
  },
  {
   "cell_type": "code",
   "execution_count": 31,
   "metadata": {},
   "outputs": [
    {
     "data": {
      "text/plain": [
       "<AxesSubplot:xlabel='PCA1', ylabel='PCA2'>"
      ]
     },
     "execution_count": 31,
     "metadata": {},
     "output_type": "execute_result"
    },
    {
     "data": {
      "image/png": "[encoded data removed]",
      "text/plain": [
       "<Figure size 432x288 with 1 Axes>"
      ]
     },
     "metadata": {
      "needs_background": "light"
     },
     "output_type": "display_data"
    }
   ],
   "source": [
    "#We update the graph by entering our dictionary in palette inside the scatterplot\n",
    "sns.scatterplot(x='PCA1', y='PCA2',data=datos, hue='GRUPOS', palette=colores)"
   ]
  },
  {
   "cell_type": "markdown",
   "metadata": {},
   "source": [
    "## VI. Results visualization\n",
    "Now that we have grouped our data we can obtain metrics from each group, for example CONTAGIADOS_MIL."
   ]
  },
  {
   "cell_type": "code",
   "execution_count": 32,
   "metadata": {},
   "outputs": [
    {
     "data": {
      "text/plain": [
       "<AxesSubplot:xlabel='GRUPOS', ylabel='CONTAGIADOS_MIL'>"
      ]
     },
     "execution_count": 32,
     "metadata": {},
     "output_type": "execute_result"
    },
    {
     "data": {
      "image/png": "[encoded data removed]",
      "text/plain": [
       "<Figure size 432x288 with 1 Axes>"
      ]
     },
     "metadata": {
      "needs_background": "light"
     },
     "output_type": "display_data"
    }
   ],
   "source": [
    "# We use seaborn barplot to measure the CONTAGIATED per thousand inhabitants of the district according to each group\n",
    "sns.barplot(x=\"GRUPOS\", y=\"CONTAGIADOS_MIL\", data=datos, palette=colores)"
   ]
  },
  {
   "cell_type": "markdown",
   "metadata": {},
   "source": [
    "## 4. Bibliographic references\n",
    "\n",
    "#### [Python Machine Learning - Second Edition](http://search.ebscohost.com/login.aspx?direct=true&AuthType=ip,sso&db=nlebk&AN=1606531&site=eds-live&scope=site&custid=s2873033&ebv=EB&ppid=pp_9)\n",
    "Author:Raschka, Sebastian, Mirjalili, Vahid\n",
    "\n",
    "![book1](https://user-images.githubusercontent.com/60121637/82153453-66aab500-985f-11ea-881a-fd5e2bbd3c8e.png)\n",
    "\n",
    "#### [Mastering Social Media Mining with Python](http://search.ebscohost.com/login.aspx?direct=true&AuthType=ip,sso&db=e000xww&AN=1295360&site=eds-live&scope=site&custid=s2873033&ebv=EB&ppid=pp_32)\n",
    "Author: Bonzanini, Marco\n",
    "\n",
    "![book2](https://user-images.githubusercontent.com/60121637/82153488-a40f4280-985f-11ea-9b14-a7f0f4cf5d67.png)\n",
    "#### [Python Data Science Essentials - Second Edition](http://search.ebscohost.com/login.aspx?direct=true&AuthType=ip,sso&db=e000xww&AN=1409191&site=eds-live&scope=site&custid=s2873033&ebv=EB&ppid=pp_Cover)\n",
    "Author: Boschetti, Alberto, Massaron, Luca\n",
    "\n",
    "![book3](https://user-images.githubusercontent.com/60121637/82153641-a756fe00-9860-11ea-8245-e15e478f1450.png)\n"
   ]
  },
  {
   "cell_type": "code",
   "execution_count": null,
   "metadata": {},
   "outputs": [],
   "source": []
  }
 ],
 "metadata": {
  "kernelspec": {
   "display_name": "Python 3",
   "language": "python",
   "name": "python3"
  },
  "language_info": {
   "codemirror_mode": {
    "name": "ipython",
    "version": 3
   },
   "file_extension": ".py",
   "mimetype": "text/x-python",
   "name": "python",
   "nbconvert_exporter": "python",
   "pygments_lexer": "ipython3",
   "version": "3.8.5"
  }
 },
 "nbformat": 4,
 "nbformat_minor": 4
}
