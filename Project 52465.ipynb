{
 "cells": [
  {
   "cell_type": "markdown",
   "metadata": {},
   "source": [
    "# Project Programming for Data Analysis\n",
    "\n",
    "## Student: Hans Pérez Rubín de Celis\n",
    "\n",
    "## Student ID number: G00387884"
   ]
  },
  {
   "cell_type": "markdown",
   "metadata": {},
   "source": [
    "## Problem statement\n",
    "For this project you must create a data set by simulating a real-world phenomenon of\n",
    "your choosing. You may pick any phenomenon you wish – you might pick one that is\n",
    "of interest to you in your personal or professional life. Then, rather than collect data\n",
    "related to the phenomenon, you should model and synthesise such data using Python.\n",
    "We suggest you use the numpy.random package for this purpose.\n",
    "\n",
    "Specifically, in this project you should:\n",
    "\n",
    "• Choose a real-world phenomenon that can be measured and for which you could\n",
    "collect at least one-hundred data points across at least four different variables.\n",
    "\n",
    "• Investigate the types of variables involved, their likely distributions, and their\n",
    "relationships with each other.\n",
    "\n",
    "• Synthesise/simulate a data set as closely matching their properties as possible.\n",
    "\n",
    "• Detail your research and implement the simulation in a Jupyter notebook – the\n",
    "data set itself can simply be displayed in an output cell within the notebook.\n",
    "Note that this project is about simulation – you must synthesise a data set. Some\n",
    "students may already have some real-world data sets in their own files. It is okay to\n",
    "base your synthesised data set on these should you wish (please reference it if you do),\n",
    "but the main task in this project is to create a synthesised data set. The next section\n",
    "gives an example project idea."
   ]
  },
  {
   "cell_type": "markdown",
   "metadata": {},
   "source": [
    "## 1.Projet Plan.\n",
    "Currently the pandemic caused by covid 19 (coronavirus) has caused a high risk for all humanity, for this reason it is important to have information stored and prepared to help us fight the pandemic.\n",
    "\n",
    "However, despite the fact that we have information in those developing countries such as South America, they have had to fight not only against the pandemic but also with access to information, access to health, access to better living conditions, to decision making.\n",
    "\n",
    "Corruption in the middle of the pandemic has become more evident as is the case in Peru, Bolivia.\n",
    "\n",
    "The article \"Use data to accelerate your business strategy\", published in Harvard Business Review, states \"The management team of the center understood that a better use of data must become a fundamental health practice\" for all this, governments are giving consider the benefits of having a data-driven decision-making culture such as:\n",
    "\n",
    "1. Identification of needs when implementing hospital facilities and thus contribute to reducing unnecessary expenses at the time of implementation.\n",
    "\n",
    "2. Optimization of processes, which contributes to the reduction of operational costs.\n",
    "\n",
    "3. Proactive monitoring to detect potential “unusual” situations and, in this way, avoid economic losses and identify improvements for the control environment.\n",
    "\n",
    "4. Identification of opportunities for automation, cloud computing, machine learning and predictive analytics that could contribute to the simulation of scenarios to fight the pandemic.\n",
    "\n",
    "National and local governments must make their decisions based on data and with this they have the possibility of constantly identifying coronavirus cases and thus optimizing operations contributing to a better fight against the pandemic.\n",
    "\n",
    "Another important aspect that has increased as a result of the pandemic has been remote work and the slowdown in the economy as a result of the COVID-19 pandemic. All this aspect has meant for the companies the flexibility of their controls, the pressure to optimize operating costs and the prevention of situations that could cause economic losses.\n",
    "\n",
    "For all this, we have seen fit to work with a current problem. We have collected information from 30 health centers in Lima."
   ]
  },
  {
   "cell_type": "markdown",
   "metadata": {},
   "source": [
    "## 2.- The Problem to solve."
   ]
  },
  {
   "cell_type": "markdown",
   "metadata": {},
   "source": [
    "## 3.- Methodology to follow"
   ]
  },
  {
   "cell_type": "code",
   "execution_count": null,
   "metadata": {},
   "outputs": [],
   "source": []
  },
  {
   "cell_type": "code",
   "execution_count": 1,
   "metadata": {},
   "outputs": [],
   "source": [
    "#Leyendo datos con pandas\n",
    "# Import : Se usa para llamar a la libreria pandas\n",
    "# as : Se usa para dar un apodo a pandas, en este caso el apodo que se le asigna es pd\n",
    "# pd.read_csv('Ubicación del archivo csv') Esta función lee el archivo csv, para \n",
    "# este caso, el archivo esta en la red.\n",
    "import pandas as pd\n",
    "datos = pd.read_csv(\"https://raw.githubusercontent.com/javalpe/datasets/master/salud.csv\")\n",
    "# Asignamos nuestro dataframe en la variable datos"
   ]
  },
  {
   "cell_type": "code",
   "execution_count": 4,
   "metadata": {
    "scrolled": true
   },
   "outputs": [
    {
     "data": {
      "text/html": [
       "<div>\n",
       "<style scoped>\n",
       "    .dataframe tbody tr th:only-of-type {\n",
       "        vertical-align: middle;\n",
       "    }\n",
       "\n",
       "    .dataframe tbody tr th {\n",
       "        vertical-align: top;\n",
       "    }\n",
       "\n",
       "    .dataframe thead th {\n",
       "        text-align: right;\n",
       "    }\n",
       "</style>\n",
       "<table border=\"1\" class=\"dataframe\">\n",
       "  <thead>\n",
       "    <tr style=\"text-align: right;\">\n",
       "      <th></th>\n",
       "      <th>ID</th>\n",
       "      <th>CENTRO_SALUD</th>\n",
       "      <th>PUNTAJE</th>\n",
       "      <th>INGRESO</th>\n",
       "      <th>POBLACION</th>\n",
       "      <th>HOGARES</th>\n",
       "      <th>CONTAGIADOS_MIL</th>\n",
       "      <th>POSITIVIDAD</th>\n",
       "      <th>DISTRITO</th>\n",
       "    </tr>\n",
       "  </thead>\n",
       "  <tbody>\n",
       "    <tr>\n",
       "      <th>0</th>\n",
       "      <td>1</td>\n",
       "      <td>Clinica Maria del Socorro</td>\n",
       "      <td>3.6</td>\n",
       "      <td>1073.01</td>\n",
       "      <td>152787</td>\n",
       "      <td>44523</td>\n",
       "      <td>19</td>\n",
       "      <td>25</td>\n",
       "      <td>ATE</td>\n",
       "    </tr>\n",
       "    <tr>\n",
       "      <th>1</th>\n",
       "      <td>2</td>\n",
       "      <td>Centro de Salud Chacra Colorada</td>\n",
       "      <td>4.3</td>\n",
       "      <td>1449.72</td>\n",
       "      <td>81112</td>\n",
       "      <td>24982</td>\n",
       "      <td>34</td>\n",
       "      <td>14</td>\n",
       "      <td>LINCE</td>\n",
       "    </tr>\n",
       "    <tr>\n",
       "      <th>2</th>\n",
       "      <td>3</td>\n",
       "      <td>Clinica Bellavista</td>\n",
       "      <td>3.0</td>\n",
       "      <td>2412.45</td>\n",
       "      <td>29184</td>\n",
       "      <td>8356</td>\n",
       "      <td>55</td>\n",
       "      <td>14</td>\n",
       "      <td>BELLAVISTA</td>\n",
       "    </tr>\n",
       "    <tr>\n",
       "      <th>3</th>\n",
       "      <td>4</td>\n",
       "      <td>Clinica Limatambo Minka</td>\n",
       "      <td>2.5</td>\n",
       "      <td>1073.01</td>\n",
       "      <td>190676</td>\n",
       "      <td>50748</td>\n",
       "      <td>24</td>\n",
       "      <td>13</td>\n",
       "      <td>CALLAO</td>\n",
       "    </tr>\n",
       "    <tr>\n",
       "      <th>4</th>\n",
       "      <td>5</td>\n",
       "      <td>Clinica Internacional Lima</td>\n",
       "      <td>3.2</td>\n",
       "      <td>1073.01</td>\n",
       "      <td>125094</td>\n",
       "      <td>38842</td>\n",
       "      <td>70</td>\n",
       "      <td>20</td>\n",
       "      <td>CERCADO</td>\n",
       "    </tr>\n",
       "  </tbody>\n",
       "</table>\n",
       "</div>"
      ],
      "text/plain": [
       "   ID                     CENTRO_SALUD  PUNTAJE  INGRESO  POBLACION  HOGARES  \\\n",
       "0   1        Clinica Maria del Socorro      3.6  1073.01     152787    44523   \n",
       "1   2  Centro de Salud Chacra Colorada      4.3  1449.72      81112    24982   \n",
       "2   3               Clinica Bellavista      3.0  2412.45      29184     8356   \n",
       "3   4          Clinica Limatambo Minka      2.5  1073.01     190676    50748   \n",
       "4   5       Clinica Internacional Lima      3.2  1073.01     125094    38842   \n",
       "\n",
       "   CONTAGIADOS_MIL  POSITIVIDAD    DISTRITO  \n",
       "0               19           25         ATE  \n",
       "1               34           14       LINCE  \n",
       "2               55           14  BELLAVISTA  \n",
       "3               24           13      CALLAO  \n",
       "4               70           20     CERCADO  "
      ]
     },
     "execution_count": 4,
     "metadata": {},
     "output_type": "execute_result"
    }
   ],
   "source": [
    "\"CELDA N°2\"\n",
    "#Verificar los primeros registros en datos \n",
    "# datos = Es el nombre que le asignamos a nuestro dataframe importado hace un momento\n",
    "# head() = Es lo que nos permite visualizar, le podemos colocar cualquier numero\n",
    "#          dentro del parentesís que sera el número de filas que nos mostrará\n",
    "#          Por defecto head() muestra 5 filas \n",
    "datos.head()"
   ]
  },
  {
   "cell_type": "code",
   "execution_count": 5,
   "metadata": {},
   "outputs": [
    {
     "data": {
      "text/plain": [
       "(30, 9)"
      ]
     },
     "execution_count": 5,
     "metadata": {},
     "output_type": "execute_result"
    }
   ],
   "source": [
    "\"CELDA N°3\"\n",
    "#shape es una propiedad de python que nos muestra el tamaño, en este caso de\n",
    "#nuestro dataframe, el resultado es (filas, columnas)\n",
    "datos.shape"
   ]
  },
  {
   "cell_type": "code",
   "execution_count": 6,
   "metadata": {},
   "outputs": [
    {
     "name": "stdout",
     "output_type": "stream",
     "text": [
      "<class 'pandas.core.frame.DataFrame'>\n",
      "RangeIndex: 30 entries, 0 to 29\n",
      "Data columns (total 9 columns):\n",
      " #   Column           Non-Null Count  Dtype  \n",
      "---  ------           --------------  -----  \n",
      " 0   ID               30 non-null     int64  \n",
      " 1   CENTRO_SALUD     30 non-null     object \n",
      " 2   PUNTAJE          30 non-null     float64\n",
      " 3   INGRESO          30 non-null     float64\n",
      " 4   POBLACION        30 non-null     int64  \n",
      " 5   HOGARES          30 non-null     int64  \n",
      " 6   CONTAGIADOS_MIL  30 non-null     int64  \n",
      " 7   POSITIVIDAD      30 non-null     int64  \n",
      " 8   DISTRITO         30 non-null     object \n",
      "dtypes: float64(2), int64(5), object(2)\n",
      "memory usage: 2.2+ KB\n"
     ]
    }
   ],
   "source": [
    "\"CELDA N°4\"\n",
    "#Verificar el contenido de datos\n",
    "#Con info podemos ver el tipo de variables.\n",
    "#El tipo de variables que existen en python las definimos anteriormente\n",
    "datos.info()"
   ]
  },
  {
   "cell_type": "code",
   "execution_count": 7,
   "metadata": {},
   "outputs": [
    {
     "data": {
      "text/html": [
       "<div>\n",
       "<style scoped>\n",
       "    .dataframe tbody tr th:only-of-type {\n",
       "        vertical-align: middle;\n",
       "    }\n",
       "\n",
       "    .dataframe tbody tr th {\n",
       "        vertical-align: top;\n",
       "    }\n",
       "\n",
       "    .dataframe thead th {\n",
       "        text-align: right;\n",
       "    }\n",
       "</style>\n",
       "<table border=\"1\" class=\"dataframe\">\n",
       "  <thead>\n",
       "    <tr style=\"text-align: right;\">\n",
       "      <th></th>\n",
       "      <th>ID</th>\n",
       "      <th>PUNTAJE</th>\n",
       "      <th>INGRESO</th>\n",
       "      <th>POBLACION</th>\n",
       "      <th>HOGARES</th>\n",
       "      <th>CONTAGIADOS_MIL</th>\n",
       "      <th>POSITIVIDAD</th>\n",
       "    </tr>\n",
       "  </thead>\n",
       "  <tbody>\n",
       "    <tr>\n",
       "      <th>count</th>\n",
       "      <td>30.000000</td>\n",
       "      <td>30.000000</td>\n",
       "      <td>30.000000</td>\n",
       "      <td>30.000000</td>\n",
       "      <td>30.000000</td>\n",
       "      <td>30.000000</td>\n",
       "      <td>30.000000</td>\n",
       "    </tr>\n",
       "    <tr>\n",
       "      <th>mean</th>\n",
       "      <td>15.500000</td>\n",
       "      <td>3.383333</td>\n",
       "      <td>1741.333000</td>\n",
       "      <td>112676.066667</td>\n",
       "      <td>33832.066667</td>\n",
       "      <td>29.566667</td>\n",
       "      <td>22.333333</td>\n",
       "    </tr>\n",
       "    <tr>\n",
       "      <th>std</th>\n",
       "      <td>8.803408</td>\n",
       "      <td>0.492764</td>\n",
       "      <td>613.553743</td>\n",
       "      <td>66321.502180</td>\n",
       "      <td>18342.662712</td>\n",
       "      <td>15.644065</td>\n",
       "      <td>5.134960</td>\n",
       "    </tr>\n",
       "    <tr>\n",
       "      <th>min</th>\n",
       "      <td>1.000000</td>\n",
       "      <td>2.500000</td>\n",
       "      <td>1073.010000</td>\n",
       "      <td>29184.000000</td>\n",
       "      <td>8356.000000</td>\n",
       "      <td>18.000000</td>\n",
       "      <td>13.000000</td>\n",
       "    </tr>\n",
       "    <tr>\n",
       "      <th>25%</th>\n",
       "      <td>8.250000</td>\n",
       "      <td>3.000000</td>\n",
       "      <td>1073.010000</td>\n",
       "      <td>71471.750000</td>\n",
       "      <td>21395.750000</td>\n",
       "      <td>21.250000</td>\n",
       "      <td>20.250000</td>\n",
       "    </tr>\n",
       "    <tr>\n",
       "      <th>50%</th>\n",
       "      <td>15.500000</td>\n",
       "      <td>3.500000</td>\n",
       "      <td>1449.720000</td>\n",
       "      <td>96515.500000</td>\n",
       "      <td>29799.000000</td>\n",
       "      <td>24.000000</td>\n",
       "      <td>21.000000</td>\n",
       "    </tr>\n",
       "    <tr>\n",
       "      <th>75%</th>\n",
       "      <td>22.750000</td>\n",
       "      <td>3.700000</td>\n",
       "      <td>2412.450000</td>\n",
       "      <td>127040.250000</td>\n",
       "      <td>38804.250000</td>\n",
       "      <td>28.000000</td>\n",
       "      <td>24.750000</td>\n",
       "    </tr>\n",
       "    <tr>\n",
       "      <th>max</th>\n",
       "      <td>30.000000</td>\n",
       "      <td>4.300000</td>\n",
       "      <td>2412.450000</td>\n",
       "      <td>308614.000000</td>\n",
       "      <td>84599.000000</td>\n",
       "      <td>87.000000</td>\n",
       "      <td>35.000000</td>\n",
       "    </tr>\n",
       "  </tbody>\n",
       "</table>\n",
       "</div>"
      ],
      "text/plain": [
       "              ID    PUNTAJE      INGRESO      POBLACION       HOGARES  \\\n",
       "count  30.000000  30.000000    30.000000      30.000000     30.000000   \n",
       "mean   15.500000   3.383333  1741.333000  112676.066667  33832.066667   \n",
       "std     8.803408   0.492764   613.553743   66321.502180  18342.662712   \n",
       "min     1.000000   2.500000  1073.010000   29184.000000   8356.000000   \n",
       "25%     8.250000   3.000000  1073.010000   71471.750000  21395.750000   \n",
       "50%    15.500000   3.500000  1449.720000   96515.500000  29799.000000   \n",
       "75%    22.750000   3.700000  2412.450000  127040.250000  38804.250000   \n",
       "max    30.000000   4.300000  2412.450000  308614.000000  84599.000000   \n",
       "\n",
       "       CONTAGIADOS_MIL  POSITIVIDAD  \n",
       "count        30.000000    30.000000  \n",
       "mean         29.566667    22.333333  \n",
       "std          15.644065     5.134960  \n",
       "min          18.000000    13.000000  \n",
       "25%          21.250000    20.250000  \n",
       "50%          24.000000    21.000000  \n",
       "75%          28.000000    24.750000  \n",
       "max          87.000000    35.000000  "
      ]
     },
     "execution_count": 7,
     "metadata": {},
     "output_type": "execute_result"
    }
   ],
   "source": [
    "\"CELDA N°5\"\n",
    "# describe(): Nos arroja un reporte de estadística descriptiva:\n",
    "# count = cantidad de registros llenos \n",
    "# mean = promedio\n",
    "# std = desviacion estándar \n",
    "# min = valor mínimo \n",
    "# max = valor máximo \n",
    "# x% = percentiles \n",
    "datos.describe()"
   ]
  },
  {
   "cell_type": "markdown",
   "metadata": {},
   "source": [
    "## paso 2"
   ]
  },
  {
   "cell_type": "code",
   "execution_count": 9,
   "metadata": {},
   "outputs": [
    {
     "data": {
      "text/html": [
       "<div>\n",
       "<style scoped>\n",
       "    .dataframe tbody tr th:only-of-type {\n",
       "        vertical-align: middle;\n",
       "    }\n",
       "\n",
       "    .dataframe tbody tr th {\n",
       "        vertical-align: top;\n",
       "    }\n",
       "\n",
       "    .dataframe thead th {\n",
       "        text-align: right;\n",
       "    }\n",
       "</style>\n",
       "<table border=\"1\" class=\"dataframe\">\n",
       "  <thead>\n",
       "    <tr style=\"text-align: right;\">\n",
       "      <th></th>\n",
       "      <th>PUNTAJE</th>\n",
       "      <th>INGRESO</th>\n",
       "      <th>POBLACION</th>\n",
       "      <th>HOGARES</th>\n",
       "      <th>CONTAGIADOS_MIL</th>\n",
       "      <th>POSITIVIDAD</th>\n",
       "    </tr>\n",
       "  </thead>\n",
       "  <tbody>\n",
       "    <tr>\n",
       "      <th>0</th>\n",
       "      <td>3.6</td>\n",
       "      <td>1073.01</td>\n",
       "      <td>152787</td>\n",
       "      <td>44523</td>\n",
       "      <td>19</td>\n",
       "      <td>25</td>\n",
       "    </tr>\n",
       "    <tr>\n",
       "      <th>1</th>\n",
       "      <td>4.3</td>\n",
       "      <td>1449.72</td>\n",
       "      <td>81112</td>\n",
       "      <td>24982</td>\n",
       "      <td>34</td>\n",
       "      <td>14</td>\n",
       "    </tr>\n",
       "    <tr>\n",
       "      <th>2</th>\n",
       "      <td>3.0</td>\n",
       "      <td>2412.45</td>\n",
       "      <td>29184</td>\n",
       "      <td>8356</td>\n",
       "      <td>55</td>\n",
       "      <td>14</td>\n",
       "    </tr>\n",
       "    <tr>\n",
       "      <th>3</th>\n",
       "      <td>2.5</td>\n",
       "      <td>1073.01</td>\n",
       "      <td>190676</td>\n",
       "      <td>50748</td>\n",
       "      <td>24</td>\n",
       "      <td>13</td>\n",
       "    </tr>\n",
       "    <tr>\n",
       "      <th>4</th>\n",
       "      <td>3.2</td>\n",
       "      <td>1073.01</td>\n",
       "      <td>125094</td>\n",
       "      <td>38842</td>\n",
       "      <td>70</td>\n",
       "      <td>20</td>\n",
       "    </tr>\n",
       "  </tbody>\n",
       "</table>\n",
       "</div>"
      ],
      "text/plain": [
       "   PUNTAJE  INGRESO  POBLACION  HOGARES  CONTAGIADOS_MIL  POSITIVIDAD\n",
       "0      3.6  1073.01     152787    44523               19           25\n",
       "1      4.3  1449.72      81112    24982               34           14\n",
       "2      3.0  2412.45      29184     8356               55           14\n",
       "3      2.5  1073.01     190676    50748               24           13\n",
       "4      3.2  1073.01     125094    38842               70           20"
      ]
     },
     "execution_count": 9,
     "metadata": {},
     "output_type": "execute_result"
    }
   ],
   "source": [
    "#De mi dataframe datos que cargué anteriormente voy a tomar solamente las columnas\n",
    "#que creo que son relevantes para el análisis y lo asigno en datos_2\n",
    "datos_2 = datos.loc[:, ['PUNTAJE', 'INGRESO', 'POBLACION', 'HOGARES','CONTAGIADOS_MIL', 'POSITIVIDAD']]\n",
    "datos_2.head()"
   ]
  },
  {
   "cell_type": "code",
   "execution_count": 11,
   "metadata": {},
   "outputs": [],
   "source": [
    "#Importamos de la libreria sklearn a MaxAbsScaler\n",
    "#MaxAbsScaler : Escale cada característica por su valor absoluto máximo.\n",
    "#               Este estimador escala y traduce cada característica individualmente \n",
    "#               de modo que el valor absoluto máximo de cada característica en el\n",
    "#               conjunto de entrenamiento sea 1.0. No desplaza / centra los datos\n",
    "#               y, por lo tanto, no destruye ninguna escasez.\n",
    "from sklearn.preprocessing import MaxAbsScaler\n",
    "abs_scaler = MaxAbsScaler() #Creamos la variables abs_scaler "
   ]
  },
  {
   "cell_type": "code",
   "execution_count": 12,
   "metadata": {},
   "outputs": [],
   "source": [
    "#abs_scaler = Es la variables que creamos hace un momento, esta variables contiene\n",
    "#             la función MaxAbsScaler(), la que nos permitirá escalar nuestros datos\n",
    "# .fit() =  Calcule el valor absoluto máximo que se utilizará para el escalado posterior.\n",
    "# .transform() = Ajuste a los datos, luego transfórmelos.\n",
    "abs_scaler.fit(datos_2)\n",
    "scaled_data = abs_scaler.transform(datos_2) #Se guardan los datos transforamdos (escalados ) en scaled_data"
   ]
  },
  {
   "cell_type": "code",
   "execution_count": 13,
   "metadata": {},
   "outputs": [],
   "source": [
    "#Cramos un nuevo dataframe con el mismo nombre datos_2, usando los datos transformados\n",
    "#y las columnas del dataframe antiguo que tambien se llama datos_2\n",
    "datos_2 = pd.DataFrame(scaled_data, columns=datos_2.columns)"
   ]
  },
  {
   "cell_type": "code",
   "execution_count": 14,
   "metadata": {},
   "outputs": [
    {
     "data": {
      "text/html": [
       "<div>\n",
       "<style scoped>\n",
       "    .dataframe tbody tr th:only-of-type {\n",
       "        vertical-align: middle;\n",
       "    }\n",
       "\n",
       "    .dataframe tbody tr th {\n",
       "        vertical-align: top;\n",
       "    }\n",
       "\n",
       "    .dataframe thead th {\n",
       "        text-align: right;\n",
       "    }\n",
       "</style>\n",
       "<table border=\"1\" class=\"dataframe\">\n",
       "  <thead>\n",
       "    <tr style=\"text-align: right;\">\n",
       "      <th></th>\n",
       "      <th>PUNTAJE</th>\n",
       "      <th>INGRESO</th>\n",
       "      <th>POBLACION</th>\n",
       "      <th>HOGARES</th>\n",
       "      <th>CONTAGIADOS_MIL</th>\n",
       "      <th>POSITIVIDAD</th>\n",
       "    </tr>\n",
       "  </thead>\n",
       "  <tbody>\n",
       "    <tr>\n",
       "      <th>0</th>\n",
       "      <td>0.837209</td>\n",
       "      <td>0.444780</td>\n",
       "      <td>0.495075</td>\n",
       "      <td>0.526283</td>\n",
       "      <td>0.218391</td>\n",
       "      <td>0.714286</td>\n",
       "    </tr>\n",
       "    <tr>\n",
       "      <th>1</th>\n",
       "      <td>1.000000</td>\n",
       "      <td>0.600933</td>\n",
       "      <td>0.262827</td>\n",
       "      <td>0.295299</td>\n",
       "      <td>0.390805</td>\n",
       "      <td>0.400000</td>\n",
       "    </tr>\n",
       "    <tr>\n",
       "      <th>2</th>\n",
       "      <td>0.697674</td>\n",
       "      <td>1.000000</td>\n",
       "      <td>0.094565</td>\n",
       "      <td>0.098772</td>\n",
       "      <td>0.632184</td>\n",
       "      <td>0.400000</td>\n",
       "    </tr>\n",
       "    <tr>\n",
       "      <th>3</th>\n",
       "      <td>0.581395</td>\n",
       "      <td>0.444780</td>\n",
       "      <td>0.617846</td>\n",
       "      <td>0.599865</td>\n",
       "      <td>0.275862</td>\n",
       "      <td>0.371429</td>\n",
       "    </tr>\n",
       "    <tr>\n",
       "      <th>4</th>\n",
       "      <td>0.744186</td>\n",
       "      <td>0.444780</td>\n",
       "      <td>0.405341</td>\n",
       "      <td>0.459131</td>\n",
       "      <td>0.804598</td>\n",
       "      <td>0.571429</td>\n",
       "    </tr>\n",
       "  </tbody>\n",
       "</table>\n",
       "</div>"
      ],
      "text/plain": [
       "    PUNTAJE   INGRESO  POBLACION   HOGARES  CONTAGIADOS_MIL  POSITIVIDAD\n",
       "0  0.837209  0.444780   0.495075  0.526283         0.218391     0.714286\n",
       "1  1.000000  0.600933   0.262827  0.295299         0.390805     0.400000\n",
       "2  0.697674  1.000000   0.094565  0.098772         0.632184     0.400000\n",
       "3  0.581395  0.444780   0.617846  0.599865         0.275862     0.371429\n",
       "4  0.744186  0.444780   0.405341  0.459131         0.804598     0.571429"
      ]
     },
     "execution_count": 14,
     "metadata": {},
     "output_type": "execute_result"
    }
   ],
   "source": [
    "datos_2.head() #Al fin tenemos nuestro dataframe listo para procesarlo en el algoritmo."
   ]
  },
  {
   "cell_type": "markdown",
   "metadata": {},
   "source": [
    "## paso 3"
   ]
  },
  {
   "cell_type": "code",
   "execution_count": 15,
   "metadata": {},
   "outputs": [],
   "source": [
    "#Importamos la librería PCA de sklearn\n",
    "from sklearn.decomposition import PCA"
   ]
  },
  {
   "cell_type": "code",
   "execution_count": 16,
   "metadata": {},
   "outputs": [],
   "source": [
    "#Creamos la variable componentes para guardar ahí el PCA\n",
    "componentes = PCA(n_components=2) #especificamos dentro del PCA que vamos a reducirlo a 2"
   ]
  },
  {
   "cell_type": "code",
   "execution_count": 17,
   "metadata": {},
   "outputs": [],
   "source": [
    "#Entrenamos el PCA con los datos guardados en data_2 y reducimos a 2 columnas data_2.\n",
    "#Guardamos el resultado en data_en_2D \n",
    "datos_en_2D = componentes.fit_transform(datos_2)"
   ]
  },
  {
   "cell_type": "code",
   "execution_count": 18,
   "metadata": {},
   "outputs": [],
   "source": [
    "#Importamos la librería seaborn y la renombramos como sns para no escribir la palabra\n",
    "#completa cada vez que la utilizamos\n",
    "import seaborn as sns"
   ]
  },
  {
   "cell_type": "code",
   "execution_count": 19,
   "metadata": {},
   "outputs": [],
   "source": [
    "#Vamos a crear dos nuevas columnas PCA1 y PCA2 en datos y guardamos ahí los valores\n",
    "#de las columnas 0 y 1\n",
    "datos['PCA1'] = datos_en_2D[:, 0]\n",
    "datos['PCA2'] = datos_en_2D[:, 1]"
   ]
  },
  {
   "cell_type": "code",
   "execution_count": 20,
   "metadata": {},
   "outputs": [
    {
     "data": {
      "text/plain": [
       "<AxesSubplot:xlabel='PCA1', ylabel='PCA2'>"
      ]
     },
     "execution_count": 20,
     "metadata": {},
     "output_type": "execute_result"
    },
    {
     "data": {
      "image/png": "[encoded data removed]",
      "text/plain": [
       "<Figure size 432x288 with 1 Axes>"
      ]
     },
     "metadata": {
      "needs_background": "light"
     },
     "output_type": "display_data"
    }
   ],
   "source": [
    "\"CELDA N°16\"\n",
    "#Vamos a utilizar la gráficos de puntos (scatterplot) de la librería seaborn\n",
    "sns.scatterplot(x='PCA1', y='PCA2',data=datos)\n",
    "#Especificamos que la data la encuentra en datos que ahora ya tiene las columnas PCA1 y PCA2"
   ]
  },
  {
   "cell_type": "code",
   "execution_count": 21,
   "metadata": {},
   "outputs": [],
   "source": [
    "#Importamos la librería KMeans de sklearn\n",
    "from sklearn.cluster import KMeans"
   ]
  },
  {
   "cell_type": "code",
   "execution_count": 24,
   "metadata": {},
   "outputs": [],
   "source": [
    "#Creamos la variable agrupamiento para guardar ahí el KMeans\n",
    "agrupamiento = KMeans(n_clusters=3) #especificamos dentro de KMeans que deseamos obtener tres grupos "
   ]
  },
  {
   "cell_type": "code",
   "execution_count": 25,
   "metadata": {},
   "outputs": [],
   "source": [
    "#Entrenamos con los datos guardados en data_2 y obtenemos las predicciones de los grupos.\n",
    "grupos = agrupamiento.fit_predict(datos_2)"
   ]
  },
  {
   "cell_type": "code",
   "execution_count": 26,
   "metadata": {},
   "outputs": [],
   "source": [
    "#Vamos a crear una columna GRUPOS donde guardar los grupos generados por KMeans\n",
    "datos['GRUPOS'] = grupos"
   ]
  },
  {
   "cell_type": "code",
   "execution_count": 27,
   "metadata": {},
   "outputs": [
    {
     "data": {
      "text/plain": [
       "<AxesSubplot:xlabel='PCA1', ylabel='PCA2'>"
      ]
     },
     "execution_count": 27,
     "metadata": {},
     "output_type": "execute_result"
    },
    {
     "data": {
      "image/png": "[encoded data removed]",
      "text/plain": [
       "<Figure size 432x288 with 1 Axes>"
      ]
     },
     "metadata": {
      "needs_background": "light"
     },
     "output_type": "display_data"
    }
   ],
   "source": [
    "#Vamos a utilizar la gráficos de puntos (scatterplot) de la librería seaborn\n",
    "sns.scatterplot(x='PCA1', y='PCA2',data=datos, hue='GRUPOS')\n",
    "#Especificamos en hue un filtro o leyenda utilizando los grupos"
   ]
  },
  {
   "cell_type": "code",
   "execution_count": 28,
   "metadata": {},
   "outputs": [],
   "source": [
    "#Creamos un diccionario denominado colores y especificamos un color para cada grupo creado: 0, 1 y 2\n",
    "colores = dict({0:'red', 1:'blue', 2:'green'})"
   ]
  },
  {
   "cell_type": "code",
   "execution_count": 29,
   "metadata": {},
   "outputs": [
    {
     "data": {
      "text/plain": [
       "<AxesSubplot:xlabel='PCA1', ylabel='PCA2'>"
      ]
     },
     "execution_count": 29,
     "metadata": {},
     "output_type": "execute_result"
    },
    {
     "data": {
      "image/png": "[encoded data removed]",
      "text/plain": [
       "<Figure size 432x288 with 1 Axes>"
      ]
     },
     "metadata": {
      "needs_background": "light"
     },
     "output_type": "display_data"
    }
   ],
   "source": [
    "#Actualizamos el gráfico ingresando nuestro diccionario en palette dentro del scatterplot\n",
    "sns.scatterplot(x='PCA1', y='PCA2',data=datos, hue='GRUPOS', palette=colores)"
   ]
  },
  {
   "cell_type": "markdown",
   "metadata": {},
   "source": [
    "## paso 4"
   ]
  },
  {
   "cell_type": "code",
   "execution_count": 30,
   "metadata": {},
   "outputs": [
    {
     "data": {
      "text/plain": [
       "<AxesSubplot:xlabel='GRUPOS', ylabel='CONTAGIADOS_MIL'>"
      ]
     },
     "execution_count": 30,
     "metadata": {},
     "output_type": "execute_result"
    },
    {
     "data": {
      "image/png": "[encoded data removed]",
      "text/plain": [
       "<Figure size 432x288 with 1 Axes>"
      ]
     },
     "metadata": {
      "needs_background": "light"
     },
     "output_type": "display_data"
    }
   ],
   "source": [
    "#Utilizamos barplot de seaborn para medir los CONTAGIADOS por cada mil habitantes del distrito según cada grupo\n",
    "sns.barplot(x=\"GRUPOS\", y=\"CONTAGIADOS_MIL\", data=datos, palette=colores)"
   ]
  },
  {
   "cell_type": "code",
   "execution_count": null,
   "metadata": {},
   "outputs": [],
   "source": []
  }
 ],
 "metadata": {
  "kernelspec": {
   "display_name": "Python 3",
   "language": "python",
   "name": "python3"
  },
  "language_info": {
   "codemirror_mode": {
    "name": "ipython",
    "version": 3
   },
   "file_extension": ".py",
   "mimetype": "text/x-python",
   "name": "python",
   "nbconvert_exporter": "python",
   "pygments_lexer": "ipython3",
   "version": "3.8.5"
  }
 },
 "nbformat": 4,
 "nbformat_minor": 4
}
